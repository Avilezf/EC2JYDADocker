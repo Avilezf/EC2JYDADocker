{
 "cells": [
  {
   "cell_type": "code",
   "execution_count": 5,
   "id": "c31b537a",
   "metadata": {},
   "outputs": [
    {
     "name": "stdout",
     "output_type": "stream",
     "text": [
      "Requirement already satisfied: psycopg2 in c:\\users\\luisl\\appdata\\local\\programs\\python\\python39\\lib\\site-packages (2.8.6)\n",
      "Requirement already satisfied: matplotlib in c:\\users\\luisl\\appdata\\local\\programs\\python\\python39\\lib\\site-packages (3.4.2)\n",
      "Requirement already satisfied: pillow>=6.2.0 in c:\\users\\luisl\\appdata\\local\\programs\\python\\python39\\lib\\site-packages (from matplotlib) (8.2.0)\n",
      "Requirement already satisfied: numpy>=1.16 in c:\\users\\luisl\\appdata\\local\\programs\\python\\python39\\lib\\site-packages (from matplotlib) (1.20.3)\n",
      "Requirement already satisfied: kiwisolver>=1.0.1 in c:\\users\\luisl\\appdata\\local\\programs\\python\\python39\\lib\\site-packages (from matplotlib) (1.3.1)\n",
      "Requirement already satisfied: python-dateutil>=2.7 in c:\\users\\luisl\\appdata\\local\\programs\\python\\python39\\lib\\site-packages (from matplotlib) (2.8.1)\n",
      "Requirement already satisfied: pyparsing>=2.2.1 in c:\\users\\luisl\\appdata\\local\\programs\\python\\python39\\lib\\site-packages (from matplotlib) (2.4.7)\n",
      "Requirement already satisfied: cycler>=0.10 in c:\\users\\luisl\\appdata\\local\\programs\\python\\python39\\lib\\site-packages (from matplotlib) (0.10.0)\n",
      "Requirement already satisfied: six in c:\\users\\luisl\\appdata\\local\\programs\\python\\python39\\lib\\site-packages (from cycler>=0.10->matplotlib) (1.15.0)\n"
     ]
    }
   ],
   "source": [
    "#Instalar por primera vez\n",
    "!pip install psycopg2\n",
    "!pip install matplotlib"
   ]
  },
  {
   "cell_type": "markdown",
   "id": "ee5106d4",
   "metadata": {},
   "source": [
    "# Blockbuster and his Colombian glory days"
   ]
  },
  {
   "cell_type": "markdown",
   "id": "c9a11b12",
   "metadata": {},
   "source": [
    "A long time ago in the 00's exists a big a company called Blockbuster, they were dedicated to rental DVD's and BlueRay Movies with millons of shop all over world. This three images are visualizations of the database more specifically the years of 2005 and 2006 in Colombia in which they got their first failer in order to expand around the southamerican continent."
   ]
  },
  {
   "cell_type": "code",
   "execution_count": 16,
   "id": "9507c71a",
   "metadata": {},
   "outputs": [
    {
     "name": "stdout",
     "output_type": "stream",
     "text": [
      "Salida:\n",
      "[{'2005': 15862}, {'2006': 182}]\n"
     ]
    }
   ],
   "source": [
    "import psycopg2\n",
    "\n",
    "conexion1 = psycopg2.connect(database=\"blockbuster\",  host='postgres', user=\"postgres\", password=\"secret\", port=\"5433\")\n",
    "cursor1=conexion1.cursor()\n",
    "cursor1.execute(\"select count(*) from rental  where extract(year from rental_date) = '2006'\")\n",
    "year2 = 0\n",
    "for fila in cursor1:\n",
    "    year2 = fila\n",
    "year2 = year2[0]\n",
    "    \n",
    "cursor1.execute(\"select count(*) from rental  where extract(year from rental_date) = '2005'\")\n",
    "year1 = 0\n",
    "for fila in cursor1:\n",
    "    year1 = fila\n",
    "year1 = year1[0]\n",
    "\n",
    "years = list([{'2005':int(year1)}, {'2006':int(year2)}])\n",
    "print('Salida:')\n",
    "print(years)\n",
    "conexion1.close()"
   ]
  },
  {
   "cell_type": "code",
   "execution_count": 11,
   "id": "d6cebe83",
   "metadata": {},
   "outputs": [
    {
     "data": {
      "image/png": "[encoded data removed]",
      "text/plain": [
       "<Figure size 432x288 with 1 Axes>"
      ]
     },
     "metadata": {
      "needs_background": "light"
     },
     "output_type": "display_data"
    }
   ],
   "source": [
    "import matplotlib.pyplot as plt\n",
    "%matplotlib inline\n",
    "objects = list(x for sublist in years for x in sublist.keys())\n",
    "y_pos = range(len(objects))\n",
    "vals = [x for sublist in years for x in sublist.values()]\n",
    "\n",
    "plt.bar(y_pos, vals, align='center', alpha=0.7)\n",
    "plt.xticks(y_pos, objects)\n",
    "plt.ylabel('Rentas de DVD')\n",
    "plt.title('Blockbuster rentas por Año')\n",
    "plt.show()"
   ]
  },
  {
   "cell_type": "markdown",
   "id": "84ba1f6f",
   "metadata": {},
   "source": [
    "The 2006 year was dificult for the company, the custumers where tired of the expensives fines that they have to pay to the company and the ilegal copy of movies was a big problem too, for that reasons, almost the entire society decided to use other resources like ilegal online or physical movies that were more cheaper and reliable."
   ]
  },
  {
   "cell_type": "code",
   "execution_count": 12,
   "id": "e54753b4",
   "metadata": {},
   "outputs": [
    {
     "name": "stdout",
     "output_type": "stream",
     "text": [
      "Salida:\n",
      "[{'Mayo': 1156}, {'Junio': 2311}, {'Julio': 6709}, {'Agosto': 5686}]\n"
     ]
    }
   ],
   "source": [
    "import psycopg2\n",
    "\n",
    "months = []\n",
    "month = 0\n",
    "conexion1 = psycopg2.connect(database=\"blockbuster\",host='postgres', user=\"postgres\", password=\"secret\", port=\"5433\")\n",
    "\n",
    "cursor1=conexion1.cursor()\n",
    "cursor1.execute(\"select count(*) from rental  where extract(year from rental_date) = '2005' and extract(month from rental_date) = '05'\")\n",
    "for fila in cursor1:\n",
    "    month = fila\n",
    "month = month[0]\n",
    "months.append(month)\n",
    "    \n",
    "cursor1.execute(\"select count(*) from rental  where extract(year from rental_date) = '2005' and extract(month from rental_date) = '06'\")\n",
    "for fila in cursor1:\n",
    "    month = fila\n",
    "month = month[0]\n",
    "months.append(month)\n",
    "\n",
    "cursor1.execute(\"select count(*) from rental  where extract(year from rental_date) = '2005' and extract(month from rental_date) = '07'\")\n",
    "for fila in cursor1:\n",
    "    month = fila\n",
    "month = month[0]\n",
    "months.append(month)\n",
    "\n",
    "cursor1.execute(\"select count(*) from rental  where extract(year from rental_date) = '2005' and extract(month from rental_date) = '08'\")\n",
    "for fila in cursor1:\n",
    "    month = fila\n",
    "month = month[0]\n",
    "months.append(month)\n",
    "\n",
    "months = list([{'Mayo':int(months[0])}, {'Junio':int(months[1])}, {'Julio':int(months[2])}, {'Agosto':int(months[3])}])\n",
    "print('Salida:')\n",
    "print(months)\n",
    "conexion1.close()"
   ]
  },
  {
   "cell_type": "code",
   "execution_count": 22,
   "id": "b070ec21",
   "metadata": {},
   "outputs": [
    {
     "data": {
      "image/png": "[encoded data removed]",
      "text/plain": [
       "<Figure size 432x288 with 1 Axes>"
      ]
     },
     "metadata": {
      "needs_background": "light"
     },
     "output_type": "display_data"
    }
   ],
   "source": [
    "import matplotlib.pyplot as plt\n",
    "%matplotlib inline\n",
    "objects = list(x for sublist in months for x in sublist.keys())\n",
    "y_pos = range(len(objects))\n",
    "vals = [x for sublist in months for x in sublist.values()]\n",
    "\n",
    "plt.bar(y_pos, vals, align='center', alpha=0.7)\n",
    "plt.xticks(y_pos, objects)\n",
    "plt.ylabel('Rentas de DVD')\n",
    "plt.title('Blockbuster rentas por Mes 2005')\n",
    "plt.show()"
   ]
  },
  {
   "cell_type": "markdown",
   "id": "efdfc696",
   "metadata": {},
   "source": [
    "July and Augusts was the best months for the company in Colombia, in this year a movie called \"Ocean's 8\" had arrived to all the shops and eagerness to get it was inevitable!"
   ]
  },
  {
   "cell_type": "code",
   "execution_count": 18,
   "id": "4ebaee8f",
   "metadata": {},
   "outputs": [
    {
     "name": "stdout",
     "output_type": "stream",
     "text": [
      "Salida:\n",
      "[{'No Activo': 15}, {'Activo': 584}]\n"
     ]
    }
   ],
   "source": [
    "import psycopg2\n",
    "\n",
    "customers = []\n",
    "customer = 0\n",
    "conexion1 = psycopg2.connect(database=\"blockbuster\", host='postgres', user=\"postgres\", password=\"secret\", port=\"5433\")\n",
    "\n",
    "cursor1=conexion1.cursor()\n",
    "cursor1.execute(\"select count(*) from customer where active = '0'\")\n",
    "for fila in cursor1:\n",
    "    customer = fila\n",
    "customer = customer[0]\n",
    "customers.append(customer)\n",
    "    \n",
    "cursor1.execute(\"select count(*) from customer where active = '1'\")\n",
    "for fila in cursor1:\n",
    "    customer = fila\n",
    "customer = customer[0]\n",
    "customers.append(customer)\n",
    "\n",
    "\n",
    "customers = list([{'No Activo':int(customers[0])}, {'Activo':int(customers[1])}])\n",
    "print('Salida:')\n",
    "print(customers)\n",
    "conexion1.close()"
   ]
  },
  {
   "cell_type": "code",
   "execution_count": 20,
   "id": "4eaa3d2c",
   "metadata": {},
   "outputs": [
    {
     "data": {
      "image/png": "[encoded data removed]",
      "text/plain": [
       "<Figure size 432x288 with 1 Axes>"
      ]
     },
     "metadata": {},
     "output_type": "display_data"
    }
   ],
   "source": [
    "import matplotlib.pyplot as plt\n",
    "# if using a Jupyter notebook, include:\n",
    "%matplotlib inline\n",
    "\n",
    "# Pie chart, where the slices will be ordered and plotted counter-clockwise:\n",
    "labels = list(x for sublist in customers for x in sublist.keys())\n",
    "sizes = [x for sublist in customers for x in sublist.values()]\n",
    "\n",
    "fig, ax = plt.subplots()\n",
    "ax.pie(sizes, labels=labels, autopct='%1.1f%%')\n",
    "ax.axis('equal')  # Equal aspect ratio ensures the pie chart is circular.\n",
    "ax.set_title('Usuarios Afiliados a Blockbuster')\n",
    "\n",
    "plt.show()"
   ]
  },
  {
   "cell_type": "markdown",
   "id": "10667fb1",
   "metadata": {},
   "source": [
    "This is the best graph of the database, only the 2.5% of the customers decided to decline this memberships in blockbuster, that means that the customers liked the services but hated their prices. "
   ]
  },
  {
   "cell_type": "code",
   "execution_count": null,
   "id": "09b45705",
   "metadata": {},
   "outputs": [],
   "source": []
  }
 ],
 "metadata": {
  "kernelspec": {
   "display_name": "Python 3",
   "language": "python",
   "name": "python3"
  },
  "language_info": {
   "codemirror_mode": {
    "name": "ipython",
    "version": 3
   },
   "file_extension": ".py",
   "mimetype": "text/x-python",
   "name": "python",
   "nbconvert_exporter": "python",
   "pygments_lexer": "ipython3",
   "version": "3.9.1"
  }
 },
 "nbformat": 4,
 "nbformat_minor": 5
}